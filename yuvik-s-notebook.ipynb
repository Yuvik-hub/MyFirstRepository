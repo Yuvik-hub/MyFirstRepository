{
 "cells": [
  {
   "cell_type": "markdown",
   "id": "acc1ec91",
   "metadata": {
    "_cell_guid": "b1076dfc-b9ad-4769-8c92-a6c4dae69d19",
    "_uuid": "8f2839f25d086af736a60e9eeb907d3b93b6e0e5",
    "papermill": {
     "duration": 0.002073,
     "end_time": "2025-03-19T05:32:25.301673",
     "exception": false,
     "start_time": "2025-03-19T05:32:25.299600",
     "status": "completed"
    },
    "tags": []
   },
   "source": [
    "# this is my first notebook"
   ]
  },
  {
   "cell_type": "code",
   "execution_count": 1,
   "id": "26dcb928",
   "metadata": {
    "execution": {
     "iopub.execute_input": "2025-03-19T05:32:25.306612Z",
     "iopub.status.busy": "2025-03-19T05:32:25.306051Z",
     "iopub.status.idle": "2025-03-19T05:32:25.314791Z",
     "shell.execute_reply": "2025-03-19T05:32:25.313526Z"
    },
    "papermill": {
     "duration": 0.013366,
     "end_time": "2025-03-19T05:32:25.316709",
     "exception": false,
     "start_time": "2025-03-19T05:32:25.303343",
     "status": "completed"
    },
    "tags": []
   },
   "outputs": [
    {
     "data": {
      "text/plain": [
       "4"
      ]
     },
     "execution_count": 1,
     "metadata": {},
     "output_type": "execute_result"
    }
   ],
   "source": [
    "2+2"
   ]
  }
 ],
 "metadata": {
  "kaggle": {
   "accelerator": "none",
   "dataSources": [],
   "dockerImageVersionId": 30918,
   "isGpuEnabled": false,
   "isInternetEnabled": false,
   "language": "python",
   "sourceType": "notebook"
  },
  "kernelspec": {
   "display_name": "Python 3",
   "language": "python",
   "name": "python3"
  },
  "language_info": {
   "codemirror_mode": {
    "name": "ipython",
    "version": 3
   },
   "file_extension": ".py",
   "mimetype": "text/x-python",
   "name": "python",
   "nbconvert_exporter": "python",
   "pygments_lexer": "ipython3",
   "version": "3.10.12"
  },
  "papermill": {
   "default_parameters": {},
   "duration": 3.473141,
   "end_time": "2025-03-19T05:32:25.838703",
   "environment_variables": {},
   "exception": null,
   "input_path": "__notebook__.ipynb",
   "output_path": "__notebook__.ipynb",
   "parameters": {},
   "start_time": "2025-03-19T05:32:22.365562",
   "version": "2.6.0"
  }
 },
 "nbformat": 4,
 "nbformat_minor": 5
}
